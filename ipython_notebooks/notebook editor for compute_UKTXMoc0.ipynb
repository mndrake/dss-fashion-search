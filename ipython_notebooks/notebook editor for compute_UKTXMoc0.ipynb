{
  "nbformat": 4,
  "nbformat_minor": 0,
  "metadata": {
    "kernelspec": {
      "display_name": "Python (env search)",
      "language": "python",
      "name": "py-dku-venv-search"
    },
    "associatedRecipe": "compute_UKTXMoc0",
    "creator": "admin",
    "createdOn": 1637607758649,
    "tags": [
      "recipe-editor"
    ],
    "customFields": {}
  },
  "cells": [
    {
      "cell_type": "code",
      "metadata": {},
      "outputs": [],
      "execution_count": 0,
      "source": [
        "# -*- coding: utf-8 -*-\n",
        "import dataiku\n",
        "import pandas as pd, numpy as np\n",
        "from dataiku import pandasutils as pdu\n",
        "\n",
        "\n",
        "\n",
        "\n",
        "\n",
        "# Write recipe outputs\n",
        "model \u003d dataiku.Folder(\"UKTXMoc0\")\n",
        "model_info \u003d model.get_info()"
      ]
    }
  ]
}