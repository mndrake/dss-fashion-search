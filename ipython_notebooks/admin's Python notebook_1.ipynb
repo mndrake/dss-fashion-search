{
  "metadata": {
    "kernelspec": {
      "display_name": "Python (env search)",
      "name": "py-dku-venv-search",
      "language": "python"
    },
    "language_info": {
      "mimetype": "text/x-python",
      "nbconvert_exporter": "python",
      "version": "3.6.14",
      "name": "python",
      "pygments_lexer": "ipython3",
      "file_extension": ".py",
      "codemirror_mode": {
        "version": 3,
        "name": "ipython"
      }
    },
    "creator": "admin",
    "createdOn": 1638221286428,
    "hide_input": false,
    "customFields": {},
    "tags": [],
    "modifiedBy": "admin"
  },
  "nbformat": 4,
  "nbformat_minor": 1,
  "cells": [
    {
      "execution_count": 0,
      "cell_type": "code",
      "metadata": {},
      "source": [
        "import dataiku\nimport inference\nfrom elasticsearch import Elasticsearch\n\nes \u003d Elasticsearch()\n\ndef api_py_function(query, k):\n    \n    response \u003d inference.es_match_query(query, es, k)\n    \n\n    #response \u003d es.search(index\u003d\u0027idx_zalando\u0027, **search_query)\n    #results \u003d [r[\u0027_source\u0027][\u0027image\u0027] for r in response[\u0027hits\u0027][\u0027hits\u0027]]\n    #image_urls \u003d [f\u0027http://localhost:11500/dip/api/managedfolder/preview-image?projectKey\u003dFASHIONSEARCH\u0026odbId\u003dwQPWIBlM\u0026itemPath\u003d{i}\u0026contentType\u003dimage/jpeg\u0027 for i in results]\n      \n    #return {\u0027images\u0027: image_urls}\n    return response"
      ],
      "outputs": []
    },
    {
      "execution_count": 0,
      "cell_type": "code",
      "metadata": {},
      "source": [
        "api_py_function(\u0027\u0027)"
      ],
      "outputs": []
    }
  ]
}