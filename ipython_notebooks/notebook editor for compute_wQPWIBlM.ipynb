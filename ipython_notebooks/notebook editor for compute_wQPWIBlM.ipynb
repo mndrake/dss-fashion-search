{
  "metadata": {
    "kernelspec": {
      "display_name": "Python (env search)",
      "name": "py-dku-venv-search",
      "language": "python"
    },
    "language_info": {
      "mimetype": "text/x-python",
      "nbconvert_exporter": "python",
      "version": "3.6.14",
      "name": "python",
      "pygments_lexer": "ipython3",
      "file_extension": ".py",
      "codemirror_mode": {
        "version": 3,
        "name": "ipython"
      }
    },
    "tags": [
      "recipe-editor"
    ],
    "associatedRecipe": "compute_wQPWIBlM",
    "createdOn": 1637599592036,
    "hide_input": false,
    "modifiedBy": "admin",
    "customFields": {},
    "creator": "admin"
  },
  "nbformat": 4,
  "nbformat_minor": 1,
  "cells": [
    {
      "execution_count": 0,
      "cell_type": "code",
      "metadata": {},
      "source": [
        "%config Completer.use_jedi \u003d False"
      ],
      "outputs": []
    },
    {
      "execution_count": 0,
      "cell_type": "code",
      "metadata": {},
      "source": [
        "# -*- coding: utf-8 -*-\nimport dataiku\nimport pandas as pd, numpy as np\nfrom dataiku import pandasutils as pdu\nfrom multiprocessing import cpu_count\nfrom tqdm.contrib.concurrent import process_map\nimport urllib.request"
      ],
      "outputs": []
    },
    {
      "execution_count": 0,
      "cell_type": "code",
      "metadata": {},
      "source": [
        "# Read recipe inputs\ninp_eng \u003d dataiku.Dataset(\"FEIDEGGER_release_1_0_english\")\ninp_eng_df \u003d inp_eng.get_dataframe()\n\n#inp_ger \u003d dataiku.Dataset(\"FEIDEGGER_release_1_1_json\")\n#inp_ger_df \u003d inp_ger.get_dataframe()"
      ],
      "outputs": []
    },
    {
      "execution_count": 0,
      "cell_type": "code",
      "metadata": {},
      "source": [
        "# Write recipe outputs\nimages \u003d dataiku.Folder(\"wQPWIBlM\")\nimages_info \u003d images.get_info()"
      ],
      "outputs": []
    },
    {
      "execution_count": 0,
      "cell_type": "code",
      "metadata": {},
      "source": [
        "inp_eng_df.head()"
      ],
      "outputs": []
    },
    {
      "execution_count": 0,
      "cell_type": "code",
      "metadata": {},
      "source": [
        "url_list \u003d list(inp_eng_df[\u0027Image URL\u0027].values)"
      ],
      "outputs": []
    },
    {
      "execution_count": 0,
      "cell_type": "code",
      "metadata": {},
      "source": [
        "def download_image(url):\n    image_path \u003d images.file_path(url.split(\u0027/\u0027)[-1])\n    if not os.path.exists(image_path):\n        urllib.request.urlretrieve(url, image_path)"
      ],
      "outputs": []
    },
    {
      "execution_count": 0,
      "cell_type": "code",
      "metadata": {},
      "source": [
        "#def download_image(url):\n#    urllib.request.urlretrieve(url, images.file_path(url.split(\u0027/\u0027)[-1]))"
      ],
      "outputs": []
    },
    {
      "execution_count": 0,
      "cell_type": "code",
      "metadata": {},
      "source": [
        "workers \u003d cpu_count()"
      ],
      "outputs": []
    },
    {
      "execution_count": 0,
      "cell_type": "code",
      "metadata": {},
      "source": [
        "process_map(download_image, url_list, max_workers\u003dworkers, chunksize\u003d1)"
      ],
      "outputs": []
    },
    {
      "execution_count": 0,
      "cell_type": "code",
      "metadata": {},
      "source": [
        ""
      ],
      "outputs": []
    },
    {
      "execution_count": 0,
      "cell_type": "code",
      "metadata": {},
      "source": [
        "## Data Preparation\n\nimport os \nimport shutil\nimport json\nimport tqdm\nimport urllib.request\nfrom tqdm import notebook\nfrom multiprocessing import cpu_count\nfrom tqdm.contrib.concurrent import process_map\n\nimages_path \u003d \u0027data/feidegger/fashion\u0027\nfilename \u003d \u0027metadata.json\u0027\n\nmy_bucket \u003d s3_resource.Bucket(bucket)\n\nif not os.path.isdir(images_path):\n    os.makedirs(images_path)\n\ndef download_metadata(url):\n    if not os.path.exists(filename):\n        urllib.request.urlretrieve(url, filename)\n        \n#download metadata.json to local notebook\ndownload_metadata(\u0027https://raw.githubusercontent.com/zalandoresearch/feidegger/master/data/FEIDEGGER_release_1.1.json\u0027)\n\ndef generate_image_list(filename):\n    metadata \u003d open(filename,\u0027r\u0027)\n    data \u003d json.load(metadata)\n    url_lst \u003d []\n    for i in range(len(data)):\n        url_lst.append(data[i][\u0027url\u0027])\n    return url_lst\n\n\ndef download_image(url):\n    urllib.request.urlretrieve(url, images_path + \u0027/\u0027 + url.split(\"/\")[-1])\n                    \n#generate image list            \nurl_lst \u003d generate_image_list(filename)     \n\nworkers \u003d 2 * cpu_count()\n\n#downloading images to local disk\nprocess_map(download_image, url_lst, max_workers\u003dworkers)"
      ],
      "outputs": []
    },
    {
      "execution_count": 0,
      "cell_type": "code",
      "metadata": {},
      "source": [
        "\n\n\n\n\n# Write recipe outputs\nimages \u003d dataiku.Folder(\"wQPWIBlM\")\nimages_info \u003d images.get_info()"
      ],
      "outputs": []
    }
  ]
}