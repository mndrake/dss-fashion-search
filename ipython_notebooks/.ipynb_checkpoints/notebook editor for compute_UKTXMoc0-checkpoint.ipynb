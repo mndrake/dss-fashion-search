{
  "metadata": {
    "kernelspec": {
      "display_name": "Python (env search)",
      "name": "py-dku-venv-search",
      "language": "python"
    },
    "language_info": {
      "mimetype": "text/x-python",
      "nbconvert_exporter": "python",
      "version": "3.6.14",
      "name": "python",
      "pygments_lexer": "ipython3",
      "file_extension": ".py",
      "codemirror_mode": {
        "version": 3,
        "name": "ipython"
      }
    },
    "tags": [
      "recipe-editor"
    ],
    "associatedRecipe": "compute_UKTXMoc0",
    "createdOn": 1637607758649,
    "hide_input": false,
    "customFields": {},
    "creator": "admin",
    "modifiedBy": "admin"
  },
  "nbformat": 4,
  "nbformat_minor": 1,
  "cells": [
    {
      "execution_count": 2,
      "cell_type": "code",
      "metadata": {},
      "source": [
        "# -*- coding: utf-8 -*-\nimport dataiku\nimport pandas as pd, numpy as np\nfrom dataiku import pandasutils as pdu\nfrom transformers import AutoTokenizer, AutoModel"
      ],
      "outputs": []
    },
    {
      "execution_count": 8,
      "cell_type": "code",
      "metadata": {},
      "source": [
        "# Write recipe outputs\nmodel_folder \u003d dataiku.Folder(\"UKTXMoc0\")"
      ],
      "outputs": []
    },
    {
      "execution_count": 9,
      "cell_type": "code",
      "metadata": {},
      "source": [
        "tokenizer \u003d AutoTokenizer.from_pretrained(\"sentence-transformers/distilbert-base-nli-stsb-mean-tokens\")\nmodel \u003d AutoModel.from_pretrained(\"sentence-transformers/distilbert-base-nli-stsb-mean-tokens\") "
      ],
      "outputs": []
    },
    {
      "execution_count": 10,
      "cell_type": "code",
      "metadata": {},
      "source": [
        "tokenizer.save_pretrained(model_folder.get_path())"
      ],
      "outputs": [
        {
          "output_type": "execute_result",
          "metadata": {},
          "data": {
            "text/plain": "(\u0027/Users/davidcarlson/Library/dss/design/managed_folders/FASHIONSEARCH/UKTXMoc0/tokenizer_config.json\u0027,\n \u0027/Users/davidcarlson/Library/dss/design/managed_folders/FASHIONSEARCH/UKTXMoc0/special_tokens_map.json\u0027,\n \u0027/Users/davidcarlson/Library/dss/design/managed_folders/FASHIONSEARCH/UKTXMoc0/vocab.txt\u0027,\n \u0027/Users/davidcarlson/Library/dss/design/managed_folders/FASHIONSEARCH/UKTXMoc0/added_tokens.json\u0027,\n \u0027/Users/davidcarlson/Library/dss/design/managed_folders/FASHIONSEARCH/UKTXMoc0/tokenizer.json\u0027)"
          },
          "execution_count": 10
        }
      ]
    },
    {
      "execution_count": 11,
      "cell_type": "code",
      "metadata": {},
      "source": [
        "model.save_pretrained(model_folder.get_path())"
      ],
      "outputs": []
    },
    {
      "execution_count": 0,
      "cell_type": "code",
      "metadata": {},
      "source": [
        ""
      ],
      "outputs": []
    }
  ]
}