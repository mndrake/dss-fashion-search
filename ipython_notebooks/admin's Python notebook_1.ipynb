{
  "metadata": {
    "kernelspec": {
      "display_name": "Python (env search)",
      "name": "py-dku-venv-search",
      "language": "python"
    },
    "language_info": {
      "mimetype": "text/x-python",
      "nbconvert_exporter": "python",
      "version": "3.6.14",
      "name": "python",
      "pygments_lexer": "ipython3",
      "file_extension": ".py",
      "codemirror_mode": {
        "version": 3,
        "name": "ipython"
      }
    },
    "creator": "admin",
    "createdOn": 1638221286428,
    "hide_input": false,
    "customFields": {},
    "tags": [],
    "modifiedBy": "admin"
  },
  "nbformat": 4,
  "nbformat_minor": 1,
  "cells": [
    {
      "execution_count": 3,
      "cell_type": "code",
      "metadata": {},
      "source": [
        "%config Completer.use_jedi \u003d False"
      ],
      "outputs": []
    },
    {
      "execution_count": 4,
      "cell_type": "code",
      "metadata": {},
      "source": [
        "import dataiku\nimport inference\nfrom elasticsearch import Elasticsearch\n\nes \u003d Elasticsearch()\n\n"
      ],
      "outputs": []
    },
    {
      "execution_count": 6,
      "cell_type": "code",
      "metadata": {},
      "source": [
        "def es_match_query(payload, es, k\u003d3):\n    idx_name \u003d \u0027idx_zalando\u0027\n    search_body \u003d {\n        \"_source\": {\n            \"excludes\": [\"zalando_nlu_vector\"]\n        },\n        \"highlight\": {\n            \"fields\": {\n                \"description\": {}\n            }\n        },\n        \"query\": {\n            \"match\": {\n                \"description\": {\n                    \"query\": payload\n                }\n            }\n        }\n    }\n\n    search_response \u003d es.search(request_timeout\u003d30, index\u003didx_name,\n                                body\u003dsearch_body)[\u0027hits\u0027][\u0027hits\u0027][:k]\n\n    response \u003d [{\u0027image\u0027: x[\u0027_source\u0027][\u0027image\u0027], \u0027description\u0027: x[\u0027highlight\u0027][\u0027description\u0027]} for x in search_response]\n\n    return response\n"
      ],
      "outputs": []
    },
    {
      "execution_count": 7,
      "cell_type": "code",
      "metadata": {},
      "source": [
        "def api_py_function(query, k):\n    \n    response \u003d es_match_query(query, es, k)\n    \n    \n\n    #response \u003d es.search(index\u003d\u0027idx_zalando\u0027, **search_query)\n    #results \u003d [r[\u0027_source\u0027][\u0027image\u0027] for r in response[\u0027hits\u0027][\u0027hits\u0027]]\n    #image_urls \u003d [f\u0027http://localhost:11500/dip/api/managedfolder/preview-image?projectKey\u003dFASHIONSEARCH\u0026odbId\u003dwQPWIBlM\u0026itemPath\u003d{i}\u0026contentType\u003dimage/jpeg\u0027 for i in results]\n      \n    #return {\u0027images\u0027: image_urls}\n    return response"
      ],
      "outputs": []
    },
    {
      "execution_count": 8,
      "cell_type": "code",
      "metadata": {},
      "source": [
        "api_py_function(\u0027blue dress\u0027, 3)"
      ],
      "outputs": [
        {
          "output_type": "stream",
          "name": "stderr",
          "text": "/Users/davidcarlson/Library/dss/design/code-envs/python/search/lib/python3.6/site-packages/ipykernel_launcher.py:22: DeprecationWarning: The \u0027body\u0027 parameter is deprecated for the \u0027search\u0027 API and will be removed in a future version. Instead use API parameters directly. See https://github.com/elastic/elasticsearch-py/issues/1698 for more information\n"
        },
        {
          "output_type": "execute_result",
          "metadata": {},
          "data": {
            "text/plain": "[{\u0027image\u0027: \u0027BA221C00I-K11@12.jpg\u0027,\n  \u0027description\u0027: [\u0027Short white \u003cem\u003edress\u003c/em\u003e with square \u003cem\u003eblue\u003c/em\u003e pattern and round neckline and short sleeves.\u0027,\n   \u0027\u003cem\u003eBlue\u003c/em\u003e belt and slightly waisted.,Knee-length fabric \u003cem\u003edress\u003c/em\u003e with white-\u003cem\u003eblue\u003c/em\u003e checked pattern, girdles, short\u0027,\n   \u0027sleeves and round neckline.,white \u003cem\u003eblue\u003c/em\u003e \u003cem\u003edress\u003c/em\u003e in a tarnished shape, it has a \u003cem\u003eblue\u003c/em\u003e very thin belt and\u0027,\n   \u0027a round neckline,A \u003cem\u003eblue\u003c/em\u003e and white checked mini \u003cem\u003edress\u003c/em\u003e.\u0027,\n   \u0027It has a slim \u003cem\u003eblue\u003c/em\u003e belt with a buckle.,Mid-length, dark \u003cem\u003eblue\u003c/em\u003e and white plaid \u003cem\u003edress\u003c/em\u003e.\u0027]},\n {\u0027image\u0027: \u0027C9821C09U-K11@14.jpg\u0027,\n  \u0027description\u0027: [\u0027\u003cem\u003eblue\u003c/em\u003e \u003cem\u003edress\u003c/em\u003e with navy \u003cem\u003eblue\u003c/em\u003e top with carmen collar and wide skirt of \u003cem\u003eblue\u003c/em\u003e flowers and lace pattern.\u0027,\n   \u0027The skirt is cut asymmetrically,\u003cem\u003eBlue\u003c/em\u003e cocktail \u003cem\u003edress\u003c/em\u003e. Shoulder.\u0027,\n   \u0027\u003cem\u003edress\u003c/em\u003e. it is \u003cem\u003eblue\u003c/em\u003e, darker top part with crossed shoulders.,A \u003cem\u003eblue\u003c/em\u003e calf-length \u003cem\u003edress\u003c/em\u003e with gathering without\u0027,\n   \u0027arms with flower pattern.,Dark \u003cem\u003eblue\u003c/em\u003e strapless \u003cem\u003edress\u003c/em\u003e.\u0027,\n   \u0027The \u003cem\u003edress\u003c/em\u003e is slightly longer than the knee length and has a floral pattern that is even darker \u003cem\u003eblue\u003c/em\u003e.\u0027]},\n {\u0027image\u0027: \u0027VE121C0YF-K11@12.jpg\u0027,\n  \u0027description\u0027: [\u0027A short, dark \u003cem\u003eblue\u003c/em\u003e \u003cem\u003edress\u003c/em\u003e with a bright \u003cem\u003eblue\u003c/em\u003e floral pattern.\u0027,\n   \u0027The dark \u003cem\u003eblue\u003c/em\u003e \u003cem\u003edress\u003c/em\u003e has a light \u003cem\u003eblue\u003c/em\u003e floral print. The skirt is tight.\u0027,\n   \u0027The \u003cem\u003edress\u003c/em\u003e has slightly longer sleeves and a round neckline.,A \u003cem\u003eblue\u003c/em\u003e mini \u003cem\u003edress\u003c/em\u003e with a round neckline.\u0027,\n   \u0027It has short sleeves and is printed with branches and \u003cem\u003eblue\u003c/em\u003e flowers.,\u003cem\u003eblue\u003c/em\u003e, with bright \u003cem\u003eblue\u003c/em\u003e floral design\u0027,\n   \u0027, short sleeve, short \u003cem\u003edress\u003c/em\u003e\u0027]}]"
          },
          "execution_count": 8
        }
      ]
    },
    {
      "execution_count": 0,
      "cell_type": "code",
      "metadata": {},
      "source": [
        "inference."
      ],
      "outputs": []
    }
  ]
}