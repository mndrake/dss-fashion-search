{
  "nbformat": 4,
  "nbformat_minor": 0,
  "metadata": {
    "kernelspec": {
      "display_name": "Python (env search)",
      "language": "python",
      "name": "py-dku-venv-search"
    },
    "associatedRecipe": "compute_idx_zalando",
    "creator": "admin",
    "createdOn": 1637774554406,
    "tags": [
      "recipe-editor"
    ],
    "customFields": {}
  },
  "cells": [
    {
      "cell_type": "code",
      "metadata": {},
      "outputs": [],
      "execution_count": 0,
      "source": [
        "# -*- coding: utf-8 -*-\n",
        "import dataiku\n",
        "import pandas as pd, numpy as np\n",
        "from dataiku import pandasutils as pdu\n",
        "\n",
        "# Read recipe inputs\n",
        "image_details_by_image_path \u003d dataiku.Dataset(\"image_details_by_image_path\")\n",
        "image_details_by_image_path_df \u003d image_details_by_image_path.get_dataframe()\n",
        "\n",
        "\n",
        "# Compute recipe outputs from inputs\n",
        "# TODO: Replace this part by your actual code that computes the output, as a Pandas dataframe\n",
        "# NB: DSS also supports other kinds of APIs for reading and writing data. Please see doc.\n",
        "\n",
        "idx_zalando_df \u003d image_details_by_image_path_df # For this sample code, simply copy input to output\n",
        "\n",
        "\n",
        "# Write recipe outputs\n",
        "idx_zalando \u003d dataiku.Dataset(\"idx_zalando\")\n",
        "idx_zalando.write_with_schema(idx_zalando_df)"
      ]
    }
  ]
}