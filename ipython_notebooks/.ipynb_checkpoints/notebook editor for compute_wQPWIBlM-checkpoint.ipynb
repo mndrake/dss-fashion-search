{
  "nbformat": 4,
  "nbformat_minor": 0,
  "metadata": {
    "kernelspec": {
      "display_name": "Python (env search)",
      "language": "python",
      "name": "py-dku-venv-search"
    },
    "associatedRecipe": "compute_wQPWIBlM",
    "creator": "admin",
    "createdOn": 1637599592036,
    "tags": [
      "recipe-editor"
    ],
    "customFields": {}
  },
  "cells": [
    {
      "cell_type": "code",
      "metadata": {},
      "outputs": [],
      "execution_count": 0,
      "source": [
        "# -*- coding: utf-8 -*-\n",
        "import dataiku\n",
        "import pandas as pd, numpy as np\n",
        "from dataiku import pandasutils as pdu\n",
        "\n",
        "# Read recipe inputs\n",
        "feidegger_release_1_0_english \u003d dataiku.Dataset(\"FEIDEGGER_release_1_0_english\")\n",
        "feidegger_release_1_0_english_df \u003d feidegger_release_1_0_english.get_dataframe()\n",
        "\n",
        "\n",
        "\n",
        "\n",
        "# Write recipe outputs\n",
        "images \u003d dataiku.Folder(\"wQPWIBlM\")\n",
        "images_info \u003d images.get_info()"
      ]
    }
  ]
}