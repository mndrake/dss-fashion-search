{
  "metadata": {
    "kernelspec": {
      "display_name": "Python (env search)",
      "name": "py-dku-venv-search",
      "language": "python"
    },
    "language_info": {
      "mimetype": "text/x-python",
      "nbconvert_exporter": "python",
      "version": "3.6.14",
      "name": "python",
      "pygments_lexer": "ipython3",
      "file_extension": ".py",
      "codemirror_mode": {
        "version": 3,
        "name": "ipython"
      }
    },
    "creator": "admin",
    "createdOn": 1638221286428,
    "hide_input": false,
    "customFields": {},
    "tags": [],
    "modifiedBy": "admin"
  },
  "nbformat": 4,
  "nbformat_minor": 1,
  "cells": [
    {
      "execution_count": 3,
      "cell_type": "code",
      "metadata": {},
      "source": [
        "%config Completer.use_jedi \u003d False"
      ],
      "outputs": []
    },
    {
      "execution_count": 4,
      "cell_type": "code",
      "metadata": {},
      "source": [
        "import dataiku\nimport inference\nfrom elasticsearch import Elasticsearch\n\nes \u003d Elasticsearch()\n\ndef es_match_query(payload, es, k\u003d3):\n    idx_name \u003d \u0027idx_zalando\u0027\n    search_body \u003d {\n        \"_source\": {\n            \"excludes\": [\"zalando_nlu_vector\"]\n        },\n        \"highlight\": {\n            \"fields\": {\n                \"description\": {}\n            }\n        },\n        \"query\": {\n            \"match\": {\n                \"description\": {\n                    \"query\": payload\n                }\n            }\n        }\n    }\n\n    search_response \u003d es.search(request_timeout\u003d30, index\u003didx_name,\n                                body\u003dsearch_body)[\u0027hits\u0027][\u0027hits\u0027][:k]\n\n    response \u003d [{\u0027image\u0027: x[\u0027_source\u0027][\u0027image\u0027], \u0027description\u0027: x[\u0027highlight\u0027][\u0027description\u0027]} for x in search_response]\n\n    return response\n\ndef generate_image_url(name):\n    return f\u0027http://localhost:11500/dip/api/managedfolder/preview-image?projectKey\u003dFASHIONSEARCH\u0026odbId\u003dwQPWIBlM\u0026itemPath\u003d{name}\u0026contentType\u003dimage/jpeg\u0027\n\n"
      ],
      "outputs": []
    },
    {
      "execution_count": 22,
      "cell_type": "code",
      "metadata": {},
      "source": [
        "def api_py_function(query, k):\n    \n    search \u003d es_match_query(query, es, k)\n    \n    for i in range(len(search)):\n        search[i][\u0027presigned_url\u0027] \u003d generate_image_url([search[i][\u0027image\u0027]][0])\n        search[i][\u0027description\u0027] \u003d \" \".join(search[i][\u0027description\u0027])\n        search[i][\u0027description\u0027] \u003d search[i][\u0027description\u0027].replace(\"\u003cem\u003e\",\u0027\u003cem style\u003d\"background-color:#f18973;\"\u003e\u0027)\n\n    return search"
      ],
      "outputs": []
    },
    {
      "execution_count": 19,
      "cell_type": "code",
      "metadata": {},
      "source": [
        ""
      ],
      "outputs": []
    },
    {
      "execution_count": 20,
      "cell_type": "code",
      "metadata": {},
      "source": [
        "\n\n    #response \u003d es.search(index\u003d\u0027idx_zalando\u0027, **search_query)\n    #results \u003d [r[\u0027_source\u0027][\u0027image\u0027] for r in response[\u0027hits\u0027][\u0027hits\u0027]]\n    #image_urls \u003d [f\u0027http://localhost:11500/dip/api/managedfolder/preview-image?projectKey\u003dFASHIONSEARCH\u0026odbId\u003dwQPWIBlM\u0026itemPath\u003d{i}\u0026contentType\u003dimage/jpeg\u0027 for i in results]\n      \n    #return {\u0027images\u0027: image_urls}\n    #return response"
      ],
      "outputs": []
    },
    {
      "execution_count": 21,
      "cell_type": "code",
      "metadata": {},
      "source": [
        "api_py_function(\u0027blue dress\u0027, 3)"
      ],
      "outputs": [
        {
          "output_type": "stream",
          "name": "stderr",
          "text": "/Users/davidcarlson/Library/dss/design/code-envs/python/search/lib/python3.6/site-packages/ipykernel_launcher.py:22: DeprecationWarning: The \u0027body\u0027 parameter is deprecated for the \u0027search\u0027 API and will be removed in a future version. Instead use API parameters directly. See https://github.com/elastic/elasticsearch-py/issues/1698 for more information\n"
        },
        {
          "output_type": "execute_result",
          "metadata": {},
          "data": {
            "text/plain": "[{\u0027image\u0027: \u0027BA221C00I-K11@12.jpg\u0027,\n  \u0027description\u0027: \u0027Short white \u003cem style\u003d\"background-color:#f18973;\"\u003edress\u003c/em\u003e with square \u003cem style\u003d\"background-color:#f18973;\"\u003eblue\u003c/em\u003e pattern and round neckline and short sleeves. \u003cem style\u003d\"background-color:#f18973;\"\u003eBlue\u003c/em\u003e belt and slightly waisted.,Knee-length fabric \u003cem style\u003d\"background-color:#f18973;\"\u003edress\u003c/em\u003e with white-\u003cem style\u003d\"background-color:#f18973;\"\u003eblue\u003c/em\u003e checked pattern, girdles, short sleeves and round neckline.,white \u003cem style\u003d\"background-color:#f18973;\"\u003eblue\u003c/em\u003e \u003cem style\u003d\"background-color:#f18973;\"\u003edress\u003c/em\u003e in a tarnished shape, it has a \u003cem style\u003d\"background-color:#f18973;\"\u003eblue\u003c/em\u003e very thin belt and a round neckline,A \u003cem style\u003d\"background-color:#f18973;\"\u003eblue\u003c/em\u003e and white checked mini \u003cem style\u003d\"background-color:#f18973;\"\u003edress\u003c/em\u003e. It has a slim \u003cem style\u003d\"background-color:#f18973;\"\u003eblue\u003c/em\u003e belt with a buckle.,Mid-length, dark \u003cem style\u003d\"background-color:#f18973;\"\u003eblue\u003c/em\u003e and white plaid \u003cem style\u003d\"background-color:#f18973;\"\u003edress\u003c/em\u003e.\u0027,\n  \u0027presigned_url\u0027: \u0027http://localhost:11500/dip/api/managedfolder/preview-image?projectKey\u003dFASHIONSEARCH\u0026odbId\u003dwQPWIBlM\u0026itemPath\u003dBA221C00I-K11@12.jpg\u0026contentType\u003dimage/jpeg\u0027},\n {\u0027image\u0027: \u0027C9821C09U-K11@14.jpg\u0027,\n  \u0027description\u0027: \u0027\u003cem style\u003d\"background-color:#f18973;\"\u003eblue\u003c/em\u003e \u003cem style\u003d\"background-color:#f18973;\"\u003edress\u003c/em\u003e with navy \u003cem style\u003d\"background-color:#f18973;\"\u003eblue\u003c/em\u003e top with carmen collar and wide skirt of \u003cem style\u003d\"background-color:#f18973;\"\u003eblue\u003c/em\u003e flowers and lace pattern. The skirt is cut asymmetrically,\u003cem style\u003d\"background-color:#f18973;\"\u003eBlue\u003c/em\u003e cocktail \u003cem style\u003d\"background-color:#f18973;\"\u003edress\u003c/em\u003e. Shoulder. \u003cem style\u003d\"background-color:#f18973;\"\u003edress\u003c/em\u003e. it is \u003cem style\u003d\"background-color:#f18973;\"\u003eblue\u003c/em\u003e, darker top part with crossed shoulders.,A \u003cem style\u003d\"background-color:#f18973;\"\u003eblue\u003c/em\u003e calf-length \u003cem style\u003d\"background-color:#f18973;\"\u003edress\u003c/em\u003e with gathering without arms with flower pattern.,Dark \u003cem style\u003d\"background-color:#f18973;\"\u003eblue\u003c/em\u003e strapless \u003cem style\u003d\"background-color:#f18973;\"\u003edress\u003c/em\u003e. The \u003cem style\u003d\"background-color:#f18973;\"\u003edress\u003c/em\u003e is slightly longer than the knee length and has a floral pattern that is even darker \u003cem style\u003d\"background-color:#f18973;\"\u003eblue\u003c/em\u003e.\u0027,\n  \u0027presigned_url\u0027: \u0027http://localhost:11500/dip/api/managedfolder/preview-image?projectKey\u003dFASHIONSEARCH\u0026odbId\u003dwQPWIBlM\u0026itemPath\u003dC9821C09U-K11@14.jpg\u0026contentType\u003dimage/jpeg\u0027},\n {\u0027image\u0027: \u0027VE121C0YF-K11@12.jpg\u0027,\n  \u0027description\u0027: \u0027A short, dark \u003cem style\u003d\"background-color:#f18973;\"\u003eblue\u003c/em\u003e \u003cem style\u003d\"background-color:#f18973;\"\u003edress\u003c/em\u003e with a bright \u003cem style\u003d\"background-color:#f18973;\"\u003eblue\u003c/em\u003e floral pattern. The dark \u003cem style\u003d\"background-color:#f18973;\"\u003eblue\u003c/em\u003e \u003cem style\u003d\"background-color:#f18973;\"\u003edress\u003c/em\u003e has a light \u003cem style\u003d\"background-color:#f18973;\"\u003eblue\u003c/em\u003e floral print. The skirt is tight. The \u003cem style\u003d\"background-color:#f18973;\"\u003edress\u003c/em\u003e has slightly longer sleeves and a round neckline.,A \u003cem style\u003d\"background-color:#f18973;\"\u003eblue\u003c/em\u003e mini \u003cem style\u003d\"background-color:#f18973;\"\u003edress\u003c/em\u003e with a round neckline. It has short sleeves and is printed with branches and \u003cem style\u003d\"background-color:#f18973;\"\u003eblue\u003c/em\u003e flowers.,\u003cem style\u003d\"background-color:#f18973;\"\u003eblue\u003c/em\u003e, with bright \u003cem style\u003d\"background-color:#f18973;\"\u003eblue\u003c/em\u003e floral design , short sleeve, short \u003cem style\u003d\"background-color:#f18973;\"\u003edress\u003c/em\u003e\u0027,\n  \u0027presigned_url\u0027: \u0027http://localhost:11500/dip/api/managedfolder/preview-image?projectKey\u003dFASHIONSEARCH\u0026odbId\u003dwQPWIBlM\u0026itemPath\u003dVE121C0YF-K11@12.jpg\u0026contentType\u003dimage/jpeg\u0027}]"
          },
          "execution_count": 21
        }
      ]
    },
    {
      "execution_count": 0,
      "cell_type": "code",
      "metadata": {},
      "source": [
        "inference."
      ],
      "outputs": []
    }
  ]
}