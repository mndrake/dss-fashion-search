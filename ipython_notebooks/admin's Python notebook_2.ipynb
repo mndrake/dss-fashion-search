{
  "metadata": {
    "kernelspec": {
      "display_name": "Python (env search)",
      "name": "py-dku-venv-search",
      "language": "python"
    },
    "tags": [],
    "createdOn": 1638300455035,
    "hide_input": false,
    "creator": "admin",
    "customFields": {},
    "modifiedBy": "admin"
  },
  "nbformat": 4,
  "nbformat_minor": 1,
  "cells": [
    {
      "execution_count": 3,
      "cell_type": "code",
      "metadata": {},
      "source": [
        "%config Completer.use_jedi \u003d False"
      ],
      "outputs": []
    },
    {
      "execution_count": 4,
      "cell_type": "code",
      "metadata": {},
      "source": [
        "import dataiku"
      ],
      "outputs": []
    },
    {
      "execution_count": 5,
      "cell_type": "code",
      "metadata": {},
      "source": [
        "ds \u003d dataiku.Dataset(\u0027idx_zalando\u0027)"
      ],
      "outputs": []
    },
    {
      "execution_count": 9,
      "cell_type": "code",
      "metadata": {},
      "source": [
        "ds.get_config()"
      ],
      "outputs": [
        {
          "output_type": "execute_result",
          "metadata": {},
          "data": {
            "text/plain": "{\u0027type\u0027: \u0027ElasticSearch\u0027,\n \u0027managed\u0027: True,\n \u0027name\u0027: \u0027idx_zalando\u0027,\n \u0027smartName\u0027: \u0027idx_zalando\u0027,\n \u0027projectKey\u0027: \u0027FASHIONSEARCH\u0027,\n \u0027checklists\u0027: {\u0027checklists\u0027: []},\n \u0027checks\u0027: [],\n \u0027customMeta\u0027: {\u0027kv\u0027: {}},\n \u0027flowOptions\u0027: {\u0027virtualizable\u0027: False,\n  \u0027rebuildBehavior\u0027: \u0027NORMAL\u0027,\n  \u0027crossProjectBuildBehavior\u0027: \u0027DEFAULT\u0027},\n \u0027readWriteOptions\u0027: {\u0027preserveOrder\u0027: False,\n  \u0027writeBuckets\u0027: 1,\n  \u0027forceSingleOutputFile\u0027: False,\n  \u0027defaultReadOrdering\u0027: {\u0027enabled\u0027: False, \u0027rules\u0027: []}},\n \u0027partitioning\u0027: {\u0027ignoreNonMatchingFile\u0027: False,\n  \u0027considerMissingRequestedPartitionsAsEmpty\u0027: False,\n  \u0027dimensions\u0027: []},\n \u0027versionTag\u0027: {\u0027versionNumber\u0027: 2,\n  \u0027lastModifiedBy\u0027: {\u0027login\u0027: \u0027admin\u0027},\n  \u0027lastModifiedOn\u0027: 1637782230669},\n \u0027creationTag\u0027: {\u0027versionNumber\u0027: 0,\n  \u0027lastModifiedBy\u0027: {\u0027login\u0027: \u0027admin\u0027},\n  \u0027lastModifiedOn\u0027: 1637774546081},\n \u0027tags\u0027: [],\n \u0027params\u0027: {\u0027connection\u0027: \u0027elasticsearch\u0027,\n  \u0027notReadyIfEmpty\u0027: False,\n  \u0027index\u0027: \u0027idx_zalando\u0027,\n  \u0027type\u0027: \u0027idx_zalando\u0027,\n  \u0027customMapping\u0027: \u0027{\\n  \"properties\": {\\n    \"image\": {\\n      \"type\": \"text\"\\n    },\\n    \"description\": {\\n      \"type\": \"text\"\\n    },\\n    \"zalando_nlu_vector\": {\\n      \"type\": \"dense_vector\",\\n      \"dims\": 748\\n    }\\n  },\\n  \"date_detection\": false\\n}\u0027,\n  \u0027frameSize\u0027: 10000,\n  \u0027partitioned\u0027: False},\n \u0027schema\u0027: {\u0027columns\u0027: [{\u0027name\u0027: \u0027image\u0027, \u0027type\u0027: \u0027string\u0027},\n   {\u0027name\u0027: \u0027description\u0027, \u0027type\u0027: \u0027string\u0027},\n   {\u0027name\u0027: \u0027zalando_nlu_vector\u0027, \u0027type\u0027: \u0027string\u0027}],\n  \u0027userModified\u0027: True},\n \u0027dkuProperties\u0027: [],\n \u0027metrics\u0027: {\u0027probes\u0027: [{\u0027type\u0027: \u0027basic\u0027,\n    \u0027enabled\u0027: True,\n    \u0027computeOnBuildMode\u0027: \u0027PARTITION\u0027,\n    \u0027meta\u0027: {\u0027name\u0027: \u0027Basic data\u0027, \u0027level\u0027: 0},\n    \u0027configuration\u0027: {}},\n   {\u0027type\u0027: \u0027records\u0027,\n    \u0027enabled\u0027: True,\n    \u0027computeOnBuildMode\u0027: \u0027NO\u0027,\n    \u0027meta\u0027: {\u0027name\u0027: \u0027Record count\u0027, \u0027level\u0027: 0},\n    \u0027configuration\u0027: {}}],\n  \u0027engineConfig\u0027: {\u0027padRunsWithMetrics\u0027: False,\n   \u0027hive\u0027: {\u0027active\u0027: True, \u0027extraConf\u0027: []},\n   \u0027basic\u0027: {},\n   \u0027dss\u0027: {\u0027active\u0027: True,\n    \u0027selection\u0027: {\u0027useMemTable\u0027: False,\n     \u0027filter\u0027: {\u0027distinct\u0027: False, \u0027enabled\u0027: False},\n     \u0027partitionSelectionMethod\u0027: \u0027ALL\u0027,\n     \u0027latestPartitionsN\u0027: 1,\n     \u0027ordering\u0027: {\u0027enabled\u0027: False, \u0027rules\u0027: []},\n     \u0027samplingMethod\u0027: \u0027FULL\u0027,\n     \u0027maxRecords\u0027: -1,\n     \u0027targetRatio\u0027: 0.02,\n     \u0027withinFirstN\u0027: -1,\n     \u0027maxReadUncompressedBytes\u0027: -1}},\n   \u0027sql\u0027: {\u0027active\u0027: True},\n   \u0027impala\u0027: {\u0027active\u0027: True},\n   \u0027spark\u0027: {\u0027active\u0027: True, \u0027extraConf\u0027: []},\n   \u0027python\u0027: {}},\n  \u0027displayedState\u0027: {\u0027columns\u0027: [],\n   \u0027metrics\u0027: [\u0027basic:COUNT_COLUMNS\u0027, \u0027records:COUNT_RECORDS\u0027]}},\n \u0027metricsChecks\u0027: {\u0027runOnBuild\u0027: False,\n  \u0027checks\u0027: [],\n  \u0027displayedState\u0027: {\u0027checks\u0027: []}},\n \u0027customFields\u0027: {}}"
          },
          "execution_count": 9
        }
      ]
    },
    {
      "execution_count": 0,
      "cell_type": "code",
      "metadata": {},
      "source": [
        "idx_zalando"
      ],
      "outputs": []
    },
    {
      "execution_count": 1,
      "cell_type": "code",
      "metadata": {},
      "source": [
        "%pylab inline"
      ],
      "outputs": [
        {
          "output_type": "error",
          "evalue": "No module named \u0027matplotlib\u0027",
          "traceback": [
            "\u001b[0;31m---------------------------------------------------------------------------\u001b[0m",
            "\u001b[0;31mModuleNotFoundError\u001b[0m                       Traceback (most recent call last)",
            "\u001b[0;32m\u003cipython-input-1-a6e0d37a4680\u003e\u001b[0m in \u001b[0;36m\u003cmodule\u003e\u001b[0;34m\u001b[0m\n\u001b[0;32m----\u003e 1\u001b[0;31m \u001b[0mget_ipython\u001b[0m\u001b[0;34m(\u001b[0m\u001b[0;34m)\u001b[0m\u001b[0;34m.\u001b[0m\u001b[0mrun_line_magic\u001b[0m\u001b[0;34m(\u001b[0m\u001b[0;34m\u0027pylab\u0027\u001b[0m\u001b[0;34m,\u001b[0m \u001b[0;34m\u0027inline\u0027\u001b[0m\u001b[0;34m)\u001b[0m\u001b[0;34m\u001b[0m\u001b[0;34m\u001b[0m\u001b[0m\n\u001b[0m",
            "\u001b[0;32m~/Library/dss/design/code-envs/python/search/lib/python3.6/site-packages/IPython/core/interactiveshell.py\u001b[0m in \u001b[0;36mrun_line_magic\u001b[0;34m(self, magic_name, line, _stack_depth)\u001b[0m\n\u001b[1;32m   2324\u001b[0m                 \u001b[0mkwargs\u001b[0m\u001b[0;34m[\u001b[0m\u001b[0;34m\u0027local_ns\u0027\u001b[0m\u001b[0;34m]\u001b[0m \u001b[0;34m\u003d\u001b[0m \u001b[0msys\u001b[0m\u001b[0;34m.\u001b[0m\u001b[0m_getframe\u001b[0m\u001b[0;34m(\u001b[0m\u001b[0mstack_depth\u001b[0m\u001b[0;34m)\u001b[0m\u001b[0;34m.\u001b[0m\u001b[0mf_locals\u001b[0m\u001b[0;34m\u001b[0m\u001b[0;34m\u001b[0m\u001b[0m\n\u001b[1;32m   2325\u001b[0m             \u001b[0;32mwith\u001b[0m \u001b[0mself\u001b[0m\u001b[0;34m.\u001b[0m\u001b[0mbuiltin_trap\u001b[0m\u001b[0;34m:\u001b[0m\u001b[0;34m\u001b[0m\u001b[0;34m\u001b[0m\u001b[0m\n\u001b[0;32m-\u003e 2326\u001b[0;31m                 \u001b[0mresult\u001b[0m \u001b[0;34m\u003d\u001b[0m \u001b[0mfn\u001b[0m\u001b[0;34m(\u001b[0m\u001b[0;34m*\u001b[0m\u001b[0margs\u001b[0m\u001b[0;34m,\u001b[0m \u001b[0;34m**\u001b[0m\u001b[0mkwargs\u001b[0m\u001b[0;34m)\u001b[0m\u001b[0;34m\u001b[0m\u001b[0;34m\u001b[0m\u001b[0m\n\u001b[0m\u001b[1;32m   2327\u001b[0m             \u001b[0;32mreturn\u001b[0m \u001b[0mresult\u001b[0m\u001b[0;34m\u001b[0m\u001b[0;34m\u001b[0m\u001b[0m\n\u001b[1;32m   2328\u001b[0m \u001b[0;34m\u001b[0m\u001b[0m\n",
            "\u001b[0;32m\u003cdecorator-gen-109\u003e\u001b[0m in \u001b[0;36mpylab\u001b[0;34m(self, line)\u001b[0m\n",
            "\u001b[0;32m~/Library/dss/design/code-envs/python/search/lib/python3.6/site-packages/IPython/core/magic.py\u001b[0m in \u001b[0;36m\u003clambda\u003e\u001b[0;34m(f, *a, **k)\u001b[0m\n\u001b[1;32m    185\u001b[0m     \u001b[0;31m# but it\u0027s overkill for just that one bit of state.\u001b[0m\u001b[0;34m\u001b[0m\u001b[0;34m\u001b[0m\u001b[0;34m\u001b[0m\u001b[0m\n\u001b[1;32m    186\u001b[0m     \u001b[0;32mdef\u001b[0m \u001b[0mmagic_deco\u001b[0m\u001b[0;34m(\u001b[0m\u001b[0marg\u001b[0m\u001b[0;34m)\u001b[0m\u001b[0;34m:\u001b[0m\u001b[0;34m\u001b[0m\u001b[0;34m\u001b[0m\u001b[0m\n\u001b[0;32m--\u003e 187\u001b[0;31m         \u001b[0mcall\u001b[0m \u001b[0;34m\u003d\u001b[0m \u001b[0;32mlambda\u001b[0m \u001b[0mf\u001b[0m\u001b[0;34m,\u001b[0m \u001b[0;34m*\u001b[0m\u001b[0ma\u001b[0m\u001b[0;34m,\u001b[0m \u001b[0;34m**\u001b[0m\u001b[0mk\u001b[0m\u001b[0;34m:\u001b[0m \u001b[0mf\u001b[0m\u001b[0;34m(\u001b[0m\u001b[0;34m*\u001b[0m\u001b[0ma\u001b[0m\u001b[0;34m,\u001b[0m \u001b[0;34m**\u001b[0m\u001b[0mk\u001b[0m\u001b[0;34m)\u001b[0m\u001b[0;34m\u001b[0m\u001b[0;34m\u001b[0m\u001b[0m\n\u001b[0m\u001b[1;32m    188\u001b[0m \u001b[0;34m\u001b[0m\u001b[0m\n\u001b[1;32m    189\u001b[0m         \u001b[0;32mif\u001b[0m \u001b[0mcallable\u001b[0m\u001b[0;34m(\u001b[0m\u001b[0marg\u001b[0m\u001b[0;34m)\u001b[0m\u001b[0;34m:\u001b[0m\u001b[0;34m\u001b[0m\u001b[0;34m\u001b[0m\u001b[0m\n",
            "\u001b[0;32m~/Library/dss/design/code-envs/python/search/lib/python3.6/site-packages/IPython/core/magics/pylab.py\u001b[0m in \u001b[0;36mpylab\u001b[0;34m(self, line)\u001b[0m\n\u001b[1;32m    153\u001b[0m             \u001b[0mimport_all\u001b[0m \u001b[0;34m\u003d\u001b[0m \u001b[0;32mnot\u001b[0m \u001b[0margs\u001b[0m\u001b[0;34m.\u001b[0m\u001b[0mno_import_all\u001b[0m\u001b[0;34m\u001b[0m\u001b[0;34m\u001b[0m\u001b[0m\n\u001b[1;32m    154\u001b[0m \u001b[0;34m\u001b[0m\u001b[0m\n\u001b[0;32m--\u003e 155\u001b[0;31m         \u001b[0mgui\u001b[0m\u001b[0;34m,\u001b[0m \u001b[0mbackend\u001b[0m\u001b[0;34m,\u001b[0m \u001b[0mclobbered\u001b[0m \u001b[0;34m\u003d\u001b[0m \u001b[0mself\u001b[0m\u001b[0;34m.\u001b[0m\u001b[0mshell\u001b[0m\u001b[0;34m.\u001b[0m\u001b[0menable_pylab\u001b[0m\u001b[0;34m(\u001b[0m\u001b[0margs\u001b[0m\u001b[0;34m.\u001b[0m\u001b[0mgui\u001b[0m\u001b[0;34m,\u001b[0m \u001b[0mimport_all\u001b[0m\u001b[0;34m\u003d\u001b[0m\u001b[0mimport_all\u001b[0m\u001b[0;34m)\u001b[0m\u001b[0;34m\u001b[0m\u001b[0;34m\u001b[0m\u001b[0m\n\u001b[0m\u001b[1;32m    156\u001b[0m         \u001b[0mself\u001b[0m\u001b[0;34m.\u001b[0m\u001b[0m_show_matplotlib_backend\u001b[0m\u001b[0;34m(\u001b[0m\u001b[0margs\u001b[0m\u001b[0;34m.\u001b[0m\u001b[0mgui\u001b[0m\u001b[0;34m,\u001b[0m \u001b[0mbackend\u001b[0m\u001b[0;34m)\u001b[0m\u001b[0;34m\u001b[0m\u001b[0;34m\u001b[0m\u001b[0m\n\u001b[1;32m    157\u001b[0m         \u001b[0mprint\u001b[0m \u001b[0;34m(\u001b[0m\u001b[0;34m\"Populating the interactive namespace from numpy and matplotlib\"\u001b[0m\u001b[0;34m)\u001b[0m\u001b[0;34m\u001b[0m\u001b[0;34m\u001b[0m\u001b[0m\n",
            "\u001b[0;32m~/Library/dss/design/code-envs/python/search/lib/python3.6/site-packages/IPython/core/interactiveshell.py\u001b[0m in \u001b[0;36menable_pylab\u001b[0;34m(self, gui, import_all, welcome_message)\u001b[0m\n\u001b[1;32m   3468\u001b[0m         \u001b[0;32mfrom\u001b[0m \u001b[0mIPython\u001b[0m\u001b[0;34m.\u001b[0m\u001b[0mcore\u001b[0m\u001b[0;34m.\u001b[0m\u001b[0mpylabtools\u001b[0m \u001b[0;32mimport\u001b[0m \u001b[0mimport_pylab\u001b[0m\u001b[0;34m\u001b[0m\u001b[0;34m\u001b[0m\u001b[0m\n\u001b[1;32m   3469\u001b[0m \u001b[0;34m\u001b[0m\u001b[0m\n\u001b[0;32m-\u003e 3470\u001b[0;31m         \u001b[0mgui\u001b[0m\u001b[0;34m,\u001b[0m \u001b[0mbackend\u001b[0m \u001b[0;34m\u003d\u001b[0m \u001b[0mself\u001b[0m\u001b[0;34m.\u001b[0m\u001b[0menable_matplotlib\u001b[0m\u001b[0;34m(\u001b[0m\u001b[0mgui\u001b[0m\u001b[0;34m)\u001b[0m\u001b[0;34m\u001b[0m\u001b[0;34m\u001b[0m\u001b[0m\n\u001b[0m\u001b[1;32m   3471\u001b[0m \u001b[0;34m\u001b[0m\u001b[0m\n\u001b[1;32m   3472\u001b[0m         \u001b[0;31m# We want to prevent the loading of pylab to pollute the user\u0027s\u001b[0m\u001b[0;34m\u001b[0m\u001b[0;34m\u001b[0m\u001b[0;34m\u001b[0m\u001b[0m\n",
            "\u001b[0;32m~/Library/dss/design/code-envs/python/search/lib/python3.6/site-packages/IPython/core/interactiveshell.py\u001b[0m in \u001b[0;36menable_matplotlib\u001b[0;34m(self, gui)\u001b[0m\n\u001b[1;32m   3417\u001b[0m         \"\"\"\n\u001b[1;32m   3418\u001b[0m         \u001b[0;32mfrom\u001b[0m \u001b[0mIPython\u001b[0m\u001b[0;34m.\u001b[0m\u001b[0mcore\u001b[0m \u001b[0;32mimport\u001b[0m \u001b[0mpylabtools\u001b[0m \u001b[0;32mas\u001b[0m \u001b[0mpt\u001b[0m\u001b[0;34m\u001b[0m\u001b[0;34m\u001b[0m\u001b[0m\n\u001b[0;32m-\u003e 3419\u001b[0;31m         \u001b[0mgui\u001b[0m\u001b[0;34m,\u001b[0m \u001b[0mbackend\u001b[0m \u001b[0;34m\u003d\u001b[0m \u001b[0mpt\u001b[0m\u001b[0;34m.\u001b[0m\u001b[0mfind_gui_and_backend\u001b[0m\u001b[0;34m(\u001b[0m\u001b[0mgui\u001b[0m\u001b[0;34m,\u001b[0m \u001b[0mself\u001b[0m\u001b[0;34m.\u001b[0m\u001b[0mpylab_gui_select\u001b[0m\u001b[0;34m)\u001b[0m\u001b[0;34m\u001b[0m\u001b[0;34m\u001b[0m\u001b[0m\n\u001b[0m\u001b[1;32m   3420\u001b[0m \u001b[0;34m\u001b[0m\u001b[0m\n\u001b[1;32m   3421\u001b[0m         \u001b[0;32mif\u001b[0m \u001b[0mgui\u001b[0m \u001b[0;34m!\u003d\u001b[0m \u001b[0;34m\u0027inline\u0027\u001b[0m\u001b[0;34m:\u001b[0m\u001b[0;34m\u001b[0m\u001b[0;34m\u001b[0m\u001b[0m\n",
            "\u001b[0;32m~/Library/dss/design/code-envs/python/search/lib/python3.6/site-packages/IPython/core/pylabtools.py\u001b[0m in \u001b[0;36mfind_gui_and_backend\u001b[0;34m(gui, gui_select)\u001b[0m\n\u001b[1;32m    278\u001b[0m     \"\"\"\n\u001b[1;32m    279\u001b[0m \u001b[0;34m\u001b[0m\u001b[0m\n\u001b[0;32m--\u003e 280\u001b[0;31m     \u001b[0;32mimport\u001b[0m \u001b[0mmatplotlib\u001b[0m\u001b[0;34m\u001b[0m\u001b[0;34m\u001b[0m\u001b[0m\n\u001b[0m\u001b[1;32m    281\u001b[0m \u001b[0;34m\u001b[0m\u001b[0m\n\u001b[1;32m    282\u001b[0m     \u001b[0;32mif\u001b[0m \u001b[0mgui\u001b[0m \u001b[0;32mand\u001b[0m \u001b[0mgui\u001b[0m \u001b[0;34m!\u003d\u001b[0m \u001b[0;34m\u0027auto\u0027\u001b[0m\u001b[0;34m:\u001b[0m\u001b[0;34m\u001b[0m\u001b[0;34m\u001b[0m\u001b[0m\n",
            "\u001b[0;31mModuleNotFoundError\u001b[0m: No module named \u0027matplotlib\u0027"
          ],
          "ename": "ModuleNotFoundError"
        }
      ]
    },
    {
      "execution_count": 0,
      "cell_type": "code",
      "metadata": {},
      "source": [
        "import dataiku\nfrom dataiku import pandasutils as pdu\nimport pandas as pd"
      ],
      "outputs": []
    },
    {
      "execution_count": 0,
      "cell_type": "code",
      "metadata": {},
      "source": [
        ""
      ],
      "outputs": []
    },
    {
      "execution_count": 0,
      "cell_type": "code",
      "metadata": {},
      "source": [
        "# Example: load a DSS dataset as a Pandas dataframe\nmydataset \u003d dataiku.Dataset(\"mydataset\")\nmydataset_df \u003d mydataset.get_dataframe()"
      ],
      "outputs": []
    },
    {
      "execution_count": 0,
      "cell_type": "code",
      "metadata": {},
      "source": [
        ""
      ],
      "outputs": []
    }
  ]
}