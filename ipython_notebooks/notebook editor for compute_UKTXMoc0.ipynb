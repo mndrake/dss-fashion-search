{
  "metadata": {
    "kernelspec": {
      "display_name": "Python (env search)",
      "name": "py-dku-venv-search",
      "language": "python"
    },
    "language_info": {
      "mimetype": "text/x-python",
      "nbconvert_exporter": "python",
      "version": "3.6.14",
      "name": "python",
      "pygments_lexer": "ipython3",
      "file_extension": ".py",
      "codemirror_mode": {
        "version": 3,
        "name": "ipython"
      }
    },
    "tags": [
      "recipe-editor"
    ],
    "associatedRecipe": "compute_UKTXMoc0",
    "createdOn": 1637607758649,
    "hide_input": false,
    "customFields": {},
    "creator": "admin",
    "modifiedBy": "admin"
  },
  "nbformat": 4,
  "nbformat_minor": 1,
  "cells": [
    {
      "execution_count": 2,
      "cell_type": "code",
      "metadata": {},
      "source": [
        "# -*- coding: utf-8 -*-\nimport dataiku\nimport pandas as pd, numpy as np\nfrom dataiku import pandasutils as pdu\nfrom transformers import AutoTokenizer, AutoModel"
      ],
      "outputs": []
    },
    {
      "execution_count": 4,
      "cell_type": "code",
      "metadata": {},
      "source": [
        "# Write recipe outputs\nmodel \u003d dataiku.Folder(\"UKTXMoc0\")"
      ],
      "outputs": []
    },
    {
      "execution_count": 3,
      "cell_type": "code",
      "metadata": {},
      "source": [
        "tokenizer \u003d AutoTokenizer.from_pretrained(\"sentence-transformers/distilbert-base-nli-stsb-mean-tokens\")\nmodel \u003d AutoModel.from_pretrained(\"sentence-transformers/distilbert-base-nli-stsb-mean-tokens\") "
      ],
      "outputs": [
        {
          "output_type": "display_data",
          "data": {
            "application/vnd.jupyter.widget-view+json": {
              "model_id": "5bb443a9aad742189f6614425055bca8",
              "version_minor": 0,
              "version_major": 2
            },
            "text/plain": "Downloading:   0%|          | 0.00/505 [00:00\u003c?, ?B/s]"
          },
          "metadata": {}
        },
        {
          "output_type": "display_data",
          "data": {
            "application/vnd.jupyter.widget-view+json": {
              "model_id": "ae2b5792d3bf42edbed2fda2e99f7dc0",
              "version_minor": 0,
              "version_major": 2
            },
            "text/plain": "Downloading:   0%|          | 0.00/555 [00:00\u003c?, ?B/s]"
          },
          "metadata": {}
        },
        {
          "output_type": "display_data",
          "data": {
            "application/vnd.jupyter.widget-view+json": {
              "model_id": "d45f0fc966e0446d97288dab329f55d6",
              "version_minor": 0,
              "version_major": 2
            },
            "text/plain": "Downloading:   0%|          | 0.00/226k [00:00\u003c?, ?B/s]"
          },
          "metadata": {}
        },
        {
          "output_type": "display_data",
          "data": {
            "application/vnd.jupyter.widget-view+json": {
              "model_id": "d5246e58cc874a069c35ab93aa6aa19d",
              "version_minor": 0,
              "version_major": 2
            },
            "text/plain": "Downloading:   0%|          | 0.00/455k [00:00\u003c?, ?B/s]"
          },
          "metadata": {}
        },
        {
          "output_type": "display_data",
          "data": {
            "application/vnd.jupyter.widget-view+json": {
              "model_id": "904529d75759422490e1782804d7f610",
              "version_minor": 0,
              "version_major": 2
            },
            "text/plain": "Downloading:   0%|          | 0.00/112 [00:00\u003c?, ?B/s]"
          },
          "metadata": {}
        },
        {
          "output_type": "display_data",
          "data": {
            "application/vnd.jupyter.widget-view+json": {
              "model_id": "1b1c5009c91c4cd0a947920cf2c21f8f",
              "version_minor": 0,
              "version_major": 2
            },
            "text/plain": "Downloading:   0%|          | 0.00/253M [00:00\u003c?, ?B/s]"
          },
          "metadata": {}
        }
      ]
    },
    {
      "execution_count": 6,
      "cell_type": "code",
      "metadata": {},
      "source": [
        "tokenizer.save_pretrained(model.get_path())"
      ],
      "outputs": [
        {
          "output_type": "execute_result",
          "metadata": {},
          "data": {
            "text/plain": "(\u0027/Users/davidcarlson/Library/dss/design/managed_folders/FASHIONSEARCH/UKTXMoc0/tokenizer_config.json\u0027,\n \u0027/Users/davidcarlson/Library/dss/design/managed_folders/FASHIONSEARCH/UKTXMoc0/special_tokens_map.json\u0027,\n \u0027/Users/davidcarlson/Library/dss/design/managed_folders/FASHIONSEARCH/UKTXMoc0/vocab.txt\u0027,\n \u0027/Users/davidcarlson/Library/dss/design/managed_folders/FASHIONSEARCH/UKTXMoc0/added_tokens.json\u0027,\n \u0027/Users/davidcarlson/Library/dss/design/managed_folders/FASHIONSEARCH/UKTXMoc0/tokenizer.json\u0027)"
          },
          "execution_count": 6
        }
      ]
    },
    {
      "execution_count": 7,
      "cell_type": "code",
      "metadata": {},
      "source": [
        "model.save_pretrained(model.get_path())"
      ],
      "outputs": [
        {
          "output_type": "error",
          "evalue": "\u0027Folder\u0027 object has no attribute \u0027save_pretrained\u0027",
          "traceback": [
            "\u001b[0;31m---------------------------------------------------------------------------\u001b[0m",
            "\u001b[0;31mAttributeError\u001b[0m                            Traceback (most recent call last)",
            "\u001b[0;32m\u003cipython-input-7-fc5ebac273e8\u003e\u001b[0m in \u001b[0;36m\u003cmodule\u003e\u001b[0;34m\u001b[0m\n\u001b[0;32m----\u003e 1\u001b[0;31m \u001b[0mmodel\u001b[0m\u001b[0;34m.\u001b[0m\u001b[0msave_pretrained\u001b[0m\u001b[0;34m(\u001b[0m\u001b[0mmodel\u001b[0m\u001b[0;34m.\u001b[0m\u001b[0mget_path\u001b[0m\u001b[0;34m(\u001b[0m\u001b[0;34m)\u001b[0m\u001b[0;34m)\u001b[0m\u001b[0;34m\u001b[0m\u001b[0;34m\u001b[0m\u001b[0m\n\u001b[0m",
            "\u001b[0;31mAttributeError\u001b[0m: \u0027Folder\u0027 object has no attribute \u0027save_pretrained\u0027"
          ],
          "ename": "AttributeError"
        }
      ]
    },
    {
      "execution_count": 0,
      "cell_type": "code",
      "metadata": {},
      "source": [
        ""
      ],
      "outputs": []
    }
  ]
}