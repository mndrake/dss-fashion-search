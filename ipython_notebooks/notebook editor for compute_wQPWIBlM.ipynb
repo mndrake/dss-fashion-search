{
  "metadata": {
    "kernelspec": {
      "display_name": "Python (env search)",
      "name": "py-dku-venv-search",
      "language": "python"
    },
    "language_info": {
      "mimetype": "text/x-python",
      "nbconvert_exporter": "python",
      "version": "3.6.14",
      "name": "python",
      "pygments_lexer": "ipython3",
      "file_extension": ".py",
      "codemirror_mode": {
        "version": 3,
        "name": "ipython"
      }
    },
    "tags": [
      "recipe-editor"
    ],
    "associatedRecipe": "compute_wQPWIBlM",
    "createdOn": 1637599592036,
    "hide_input": false,
    "customFields": {},
    "creator": "admin",
    "modifiedBy": "admin"
  },
  "nbformat": 4,
  "nbformat_minor": 1,
  "cells": [
    {
      "execution_count": 1,
      "cell_type": "code",
      "metadata": {},
      "source": [
        "# -*- coding: utf-8 -*-\nimport dataiku\nimport pandas as pd, numpy as np\nfrom dataiku import pandasutils as pdu"
      ],
      "outputs": []
    },
    {
      "execution_count": 3,
      "cell_type": "code",
      "metadata": {},
      "source": [
        "# Read recipe inputs\ninp \u003d dataiku.Dataset(\"FEIDEGGER_release_1_0_english\")\ninp_df \u003d inp.get_dataframe()"
      ],
      "outputs": []
    },
    {
      "execution_count": 5,
      "cell_type": "code",
      "metadata": {},
      "source": [
        "# Write recipe outputs\nimages \u003d dataiku.Folder(\"wQPWIBlM\")\nimages_info \u003d images.get_info()"
      ],
      "outputs": []
    },
    {
      "execution_count": 4,
      "cell_type": "code",
      "metadata": {},
      "source": [
        "inp_df.head()"
      ],
      "outputs": [
        {
          "output_type": "execute_result",
          "metadata": {},
          "data": {
            "text/plain": "                                           Image URL                                        description\n0  https://i2.ztat.net/large/Y0/32/1C/00/UE/11/Y0...  Short, sexy, summer, sexy, party, yellow dress...\n1  https://i2.ztat.net/large/Y0/32/1C/00/UE/11/Y0...  a yellow dress which has a length up to about ...\n2  https://i2.ztat.net/large/Y0/32/1C/00/UE/11/Y0...  Knee-length fabric dress in yellow with wide s...\n3  https://i2.ztat.net/large/Y0/32/1C/00/UE/11/Y0...  Yellow sleeveless summer dress. It has a sligh...\n4  https://i2.ztat.net/large/Y0/32/1C/00/UE/11/Y0...  Airy summer dress slightly longer in the back....",
            "text/html": "\n            \u003cbutton style\u003d\"display:none\" \n            class\u003d\"btn btn-default ipython-export-btn\" \n            id\u003d\"btn-df-19a69b9e-0ba8-4b29-987b-857e1518b36e\" \n            onclick\u003d\"_export_df(\u002719a69b9e-0ba8-4b29-987b-857e1518b36e\u0027)\"\u003e\n                Export dataframe\n            \u003c/button\u003e\n            \n            \u003cscript\u003e\n                \n                function _check_export_df_possible(dfid,yes_fn,no_fn) {\n                    console.log(\u0027Checking dataframe exportability...\u0027)\n                    if(!IPython || !IPython.notebook || !IPython.notebook.kernel || !IPython.notebook.kernel) {\n                        console.log(\u0027Export is not possible (IPython kernel is not available)\u0027)\n                        if(no_fn) {\n                            no_fn();\n                        }\n                    } else {\n                        var pythonCode \u003d \u0027from dataiku.notebook.export import IPythonExporter;IPythonExporter._check_export_stdout(\"\u0027+dfid+\u0027\")\u0027;\n                        IPython.notebook.kernel.execute(pythonCode,{iopub: {output: function(resp) {\n                            console.info(\"Exportability response\", resp);\n                            var size \u003d /^([0-9]+)x([0-9]+)$/.exec(resp.content.data || resp.content.text)\n                            if(!size) {\n                                console.log(\u0027Export is not possible (dataframe is not in-memory anymore)\u0027)\n                                if(no_fn) {\n                                    no_fn();\n                                }\n                            } else {\n                                console.log(\u0027Export is possible\u0027)\n                                if(yes_fn) {\n                                    yes_fn(1*size[1],1*size[2]);\n                                }\n                            }\n                        }}});\n                    }\n                }\n            \n                function _export_df(dfid) {\n                    \n                    var btn \u003d $(\u0027#btn-df-\u0027+dfid);\n                    var btns \u003d $(\u0027.ipython-export-btn\u0027);\n                    \n                    _check_export_df_possible(dfid,function() {\n                        \n                        window.parent.openExportModalFromIPython(\u0027Pandas dataframe\u0027,function(data) {\n                            btns.prop(\u0027disabled\u0027,true);\n                            btn.text(\u0027Exporting...\u0027);\n                            var command \u003d \u0027from dataiku.notebook.export import IPythonExporter;IPythonExporter._run_export(\"\u0027+dfid+\u0027\",\"\u0027+data.exportId+\u0027\")\u0027;\n                            var callback \u003d {iopub:{output: function(resp) {\n                                console.info(\"CB resp:\", resp);\n                                _check_export_df_possible(dfid,function(rows, cols) {\n                                    $(\u0027#btn-df-\u0027+dfid)\n                                        .css(\u0027display\u0027,\u0027inline-block\u0027)\n                                        .text(\u0027Export this dataframe (\u0027+rows+\u0027 rows, \u0027+cols+\u0027 cols)\u0027)\n                                        .prop(\u0027disabled\u0027,false);\n                                },function() {\n                                    $(\u0027#btn-df-\u0027+dfid).css(\u0027display\u0027,\u0027none\u0027);\n                                });\n                            }}};\n                            IPython.notebook.kernel.execute(command,callback,{silent:false}); // yes, silent now defaults to true. figures.\n                        });\n                    \n                    }, function(){\n                            alert(\u0027Unable to export : the Dataframe object is not loaded in memory\u0027);\n                            btn.css(\u0027display\u0027,\u0027none\u0027);\n                    });\n                    \n                }\n                \n                (function(dfid) {\n                \n                    var retryCount \u003d 10;\n                \n                    function is_valid_websock(s) {\n                        return s \u0026\u0026 s.readyState\u003d\u003d1;\n                    }\n                \n                    function check_conn() {\n                        \n                        if(!IPython || !IPython.notebook) {\n                            // Don\u0027t even try to go further\n                            return;\n                        }\n                        \n                        // Check if IPython is ready\n                        console.info(\"Checking conn ...\")\n                        if(IPython.notebook.kernel\n                        \u0026\u0026 IPython.notebook.kernel\n                        \u0026\u0026 is_valid_websock(IPython.notebook.kernel.ws)\n                        ) {\n                            \n                            _check_export_df_possible(dfid,function(rows, cols) {\n                                $(\u0027#btn-df-\u0027+dfid).css(\u0027display\u0027,\u0027inline-block\u0027);\n                                $(\u0027#btn-df-\u0027+dfid).text(\u0027Export this dataframe (\u0027+rows+\u0027 rows, \u0027+cols+\u0027 cols)\u0027);\n                            });\n                            \n                        } else {\n                            console.info(\"Conditions are not ok\", IPython.notebook.kernel);\n                            \n                            // Retry later\n                            \n                            if(retryCount\u003e0) {\n                                setTimeout(check_conn,500);\n                                retryCount--;\n                            }\n                            \n                        }\n                    };\n                    \n                    setTimeout(check_conn,100);\n                    \n                })(\"19a69b9e-0ba8-4b29-987b-857e1518b36e\");\n                \n            \u003c/script\u003e\n            \n        \u003cdiv\u003e\n\u003cstyle scoped\u003e\n    .dataframe tbody tr th:only-of-type {\n        vertical-align: middle;\n    }\n\n    .dataframe tbody tr th {\n        vertical-align: top;\n    }\n\n    .dataframe thead th {\n        text-align: right;\n    }\n\u003c/style\u003e\n\u003ctable border\u003d\"1\" class\u003d\"dataframe\"\u003e\n  \u003cthead\u003e\n    \u003ctr style\u003d\"text-align: right;\"\u003e\n      \u003cth\u003e\u003c/th\u003e\n      \u003cth\u003eImage URL\u003c/th\u003e\n      \u003cth\u003edescription\u003c/th\u003e\n    \u003c/tr\u003e\n  \u003c/thead\u003e\n  \u003ctbody\u003e\n    \u003ctr\u003e\n      \u003cth\u003e0\u003c/th\u003e\n      \u003ctd\u003ehttps://i2.ztat.net/large/Y0/32/1C/00/UE/11/Y0...\u003c/td\u003e\n      \u003ctd\u003eShort, sexy, summer, sexy, party, yellow dress...\u003c/td\u003e\n    \u003c/tr\u003e\n    \u003ctr\u003e\n      \u003cth\u003e1\u003c/th\u003e\n      \u003ctd\u003ehttps://i2.ztat.net/large/Y0/32/1C/00/UE/11/Y0...\u003c/td\u003e\n      \u003ctd\u003ea yellow dress which has a length up to about ...\u003c/td\u003e\n    \u003c/tr\u003e\n    \u003ctr\u003e\n      \u003cth\u003e2\u003c/th\u003e\n      \u003ctd\u003ehttps://i2.ztat.net/large/Y0/32/1C/00/UE/11/Y0...\u003c/td\u003e\n      \u003ctd\u003eKnee-length fabric dress in yellow with wide s...\u003c/td\u003e\n    \u003c/tr\u003e\n    \u003ctr\u003e\n      \u003cth\u003e3\u003c/th\u003e\n      \u003ctd\u003ehttps://i2.ztat.net/large/Y0/32/1C/00/UE/11/Y0...\u003c/td\u003e\n      \u003ctd\u003eYellow sleeveless summer dress. It has a sligh...\u003c/td\u003e\n    \u003c/tr\u003e\n    \u003ctr\u003e\n      \u003cth\u003e4\u003c/th\u003e\n      \u003ctd\u003ehttps://i2.ztat.net/large/Y0/32/1C/00/UE/11/Y0...\u003c/td\u003e\n      \u003ctd\u003eAiry summer dress slightly longer in the back....\u003c/td\u003e\n    \u003c/tr\u003e\n  \u003c/tbody\u003e\n\u003c/table\u003e\n\u003c/div\u003e"
          },
          "execution_count": 4
        }
      ]
    },
    {
      "execution_count": 0,
      "cell_type": "code",
      "metadata": {},
      "source": [
        ""
      ],
      "outputs": []
    },
    {
      "execution_count": 0,
      "cell_type": "code",
      "metadata": {},
      "source": [
        "## Data Preparation\n\nimport os \nimport shutil\nimport json\nimport tqdm\nimport urllib.request\nfrom tqdm import notebook\nfrom multiprocessing import cpu_count\nfrom tqdm.contrib.concurrent import process_map\n\nimages_path \u003d \u0027data/feidegger/fashion\u0027\nfilename \u003d \u0027metadata.json\u0027\n\nmy_bucket \u003d s3_resource.Bucket(bucket)\n\nif not os.path.isdir(images_path):\n    os.makedirs(images_path)\n\ndef download_metadata(url):\n    if not os.path.exists(filename):\n        urllib.request.urlretrieve(url, filename)\n        \n#download metadata.json to local notebook\ndownload_metadata(\u0027https://raw.githubusercontent.com/zalandoresearch/feidegger/master/data/FEIDEGGER_release_1.1.json\u0027)\n\ndef generate_image_list(filename):\n    metadata \u003d open(filename,\u0027r\u0027)\n    data \u003d json.load(metadata)\n    url_lst \u003d []\n    for i in range(len(data)):\n        url_lst.append(data[i][\u0027url\u0027])\n    return url_lst\n\n\ndef download_image(url):\n    urllib.request.urlretrieve(url, images_path + \u0027/\u0027 + url.split(\"/\")[-1])\n                    \n#generate image list            \nurl_lst \u003d generate_image_list(filename)     \n\nworkers \u003d 2 * cpu_count()\n\n#downloading images to local disk\nprocess_map(download_image, url_lst, max_workers\u003dworkers)"
      ],
      "outputs": []
    },
    {
      "execution_count": 0,
      "cell_type": "code",
      "metadata": {},
      "source": [
        "\n\n\n\n\n# Write recipe outputs\nimages \u003d dataiku.Folder(\"wQPWIBlM\")\nimages_info \u003d images.get_info()"
      ],
      "outputs": []
    }
  ]
}